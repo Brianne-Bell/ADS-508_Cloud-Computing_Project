{
 "cells": [
  {
   "cell_type": "markdown",
   "metadata": {},
   "source": [
    "# Prepare Dataset for Bias Analysis"
   ]
  },
  {
   "cell_type": "code",
   "execution_count": 70,
   "metadata": {},
   "outputs": [],
   "source": [
    "import boto3\n",
    "import sagemaker\n",
    "import pandas as pd\n",
    "\n",
    "sess = sagemaker.Session()\n",
    "bucket = sess.default_bucket()\n",
    "role = sagemaker.get_execution_role()\n",
    "region = boto3.Session().region_name"
   ]
  },
  {
   "cell_type": "code",
   "execution_count": null,
   "metadata": {},
   "outputs": [],
   "source": []
  },
  {
   "cell_type": "code",
   "execution_count": 71,
   "metadata": {},
   "outputs": [
    {
     "name": "stdout",
     "output_type": "stream",
     "text": [
      "download: s3://ads-508-team4/olist/csv/cust/olist_customers_dataset.csv to data-clarify/olist_customers_dataset.csv\n",
      "download: s3://ads-508-team4/olist/csv/order_items/olist_order_items_dataset.csv to data-clarify/olist_order_items_dataset.csv\n",
      "download: s3://ads-508-team4/olist/csv/order/olist_orders_dataset.csv to data-clarify/olist_orders_dataset.csv\n",
      "download: s3://ads-508-team4/olist/csv/products/olist_products_dataset.csv to data-clarify/olist_products_dataset.csv\n"
     ]
    }
   ],
   "source": [
    "!aws s3 cp 's3://ads-508-team4/olist/csv/cust/olist_customers_dataset.csv' ./data-clarify/\n",
    "!aws s3 cp 's3://ads-508-team4/olist/csv/order_items/olist_order_items_dataset.csv' ./data-clarify/\n",
    "!aws s3 cp 's3://ads-508-team4/olist/csv/order/olist_orders_dataset.csv' ./data-clarify/\n",
    "!aws s3 cp 's3://ads-508-team4/olist/csv/products/olist_products_dataset.csv' ./data-clarify/"
   ]
  },
  {
   "cell_type": "code",
   "execution_count": 72,
   "metadata": {},
   "outputs": [
    {
     "data": {
      "text/html": [
       "<div>\n",
       "<style scoped>\n",
       "    .dataframe tbody tr th:only-of-type {\n",
       "        vertical-align: middle;\n",
       "    }\n",
       "\n",
       "    .dataframe tbody tr th {\n",
       "        vertical-align: top;\n",
       "    }\n",
       "\n",
       "    .dataframe thead th {\n",
       "        text-align: right;\n",
       "    }\n",
       "</style>\n",
       "<table border=\"1\" class=\"dataframe\">\n",
       "  <thead>\n",
       "    <tr style=\"text-align: right;\">\n",
       "      <th></th>\n",
       "      <th>\"customer_id\"</th>\n",
       "      <th>\"customer_unique_id\"</th>\n",
       "      <th>\"customer_zip_code_prefix\"</th>\n",
       "      <th>\"customer_city\"</th>\n",
       "      <th>\"customer_state\"</th>\n",
       "    </tr>\n",
       "  </thead>\n",
       "  <tbody>\n",
       "    <tr>\n",
       "      <th>0</th>\n",
       "      <td>\"06b8999e2fba1a1fbc88172c00ba8bc7\"</td>\n",
       "      <td>\"861eff4711a542e4b93843c6dd7febb0\"</td>\n",
       "      <td>\"14409\"</td>\n",
       "      <td>franca</td>\n",
       "      <td>SP</td>\n",
       "    </tr>\n",
       "    <tr>\n",
       "      <th>1</th>\n",
       "      <td>\"18955e83d337fd6b2def6b18a428ac77\"</td>\n",
       "      <td>\"290c77bc529b7ac935b93aa66c333dc3\"</td>\n",
       "      <td>\"09790\"</td>\n",
       "      <td>sao bernardo do campo</td>\n",
       "      <td>SP</td>\n",
       "    </tr>\n",
       "    <tr>\n",
       "      <th>2</th>\n",
       "      <td>\"4e7b3e00288586ebd08712fdd0374a03\"</td>\n",
       "      <td>\"060e732b5b29e8181a18229c7b0b2b5e\"</td>\n",
       "      <td>\"01151\"</td>\n",
       "      <td>sao paulo</td>\n",
       "      <td>SP</td>\n",
       "    </tr>\n",
       "    <tr>\n",
       "      <th>3</th>\n",
       "      <td>b2b6027bc5c5109e529d4dc6358b12c3</td>\n",
       "      <td>\"259dac757896d24d7702b9acbbff3f3c\"</td>\n",
       "      <td>\"08775\"</td>\n",
       "      <td>mogi das cruzes</td>\n",
       "      <td>SP</td>\n",
       "    </tr>\n",
       "    <tr>\n",
       "      <th>4</th>\n",
       "      <td>\"4f2d8ab171c80ec8364f7c12e35b23ad\"</td>\n",
       "      <td>\"345ecd01c38d18a9036ed96c73b8d066\"</td>\n",
       "      <td>\"13056\"</td>\n",
       "      <td>campinas</td>\n",
       "      <td>SP</td>\n",
       "    </tr>\n",
       "  </tbody>\n",
       "</table>\n",
       "</div>"
      ],
      "text/plain": [
       "                        \"customer_id\"                \"customer_unique_id\"  \\\n",
       "0  \"06b8999e2fba1a1fbc88172c00ba8bc7\"  \"861eff4711a542e4b93843c6dd7febb0\"   \n",
       "1  \"18955e83d337fd6b2def6b18a428ac77\"  \"290c77bc529b7ac935b93aa66c333dc3\"   \n",
       "2  \"4e7b3e00288586ebd08712fdd0374a03\"  \"060e732b5b29e8181a18229c7b0b2b5e\"   \n",
       "3    b2b6027bc5c5109e529d4dc6358b12c3  \"259dac757896d24d7702b9acbbff3f3c\"   \n",
       "4  \"4f2d8ab171c80ec8364f7c12e35b23ad\"  \"345ecd01c38d18a9036ed96c73b8d066\"   \n",
       "\n",
       "  \"customer_zip_code_prefix\"        \"customer_city\" \"customer_state\"  \n",
       "0                    \"14409\"                 franca               SP  \n",
       "1                    \"09790\"  sao bernardo do campo               SP  \n",
       "2                    \"01151\"              sao paulo               SP  \n",
       "3                    \"08775\"        mogi das cruzes               SP  \n",
       "4                    \"13056\"               campinas               SP  "
      ]
     },
     "execution_count": 72,
     "metadata": {},
     "output_type": "execute_result"
    }
   ],
   "source": [
    "import csv\n",
    "\n",
    "df_cust = pd.read_csv(\n",
    "    \"./data-clarify/olist_customers_dataset.csv\",\n",
    "    delimiter=\",\",\n",
    "    quoting=csv.QUOTE_NONE\n",
    ")\n",
    "df_cust.shape\n",
    "df_cust.head()"
   ]
  },
  {
   "cell_type": "code",
   "execution_count": 73,
   "metadata": {},
   "outputs": [
    {
     "data": {
      "text/html": [
       "<div>\n",
       "<style scoped>\n",
       "    .dataframe tbody tr th:only-of-type {\n",
       "        vertical-align: middle;\n",
       "    }\n",
       "\n",
       "    .dataframe tbody tr th {\n",
       "        vertical-align: top;\n",
       "    }\n",
       "\n",
       "    .dataframe thead th {\n",
       "        text-align: right;\n",
       "    }\n",
       "</style>\n",
       "<table border=\"1\" class=\"dataframe\">\n",
       "  <thead>\n",
       "    <tr style=\"text-align: right;\">\n",
       "      <th></th>\n",
       "      <th>\"order_id\"</th>\n",
       "      <th>\"order_item_id\"</th>\n",
       "      <th>\"product_id\"</th>\n",
       "      <th>\"seller_id\"</th>\n",
       "      <th>\"shipping_limit_date\"</th>\n",
       "      <th>\"price\"</th>\n",
       "      <th>\"freight_value\"</th>\n",
       "    </tr>\n",
       "  </thead>\n",
       "  <tbody>\n",
       "    <tr>\n",
       "      <th>0</th>\n",
       "      <td>\"00010242fe8c5a6d1ba2dd792cb16214\"</td>\n",
       "      <td>1</td>\n",
       "      <td>\"4244733e06e7ecb4970a6e2683c13e61\"</td>\n",
       "      <td>\"48436dade18ac8b2bce089ec2a041202\"</td>\n",
       "      <td>2017-09-19 09:45:35</td>\n",
       "      <td>58.90</td>\n",
       "      <td>13.29</td>\n",
       "    </tr>\n",
       "    <tr>\n",
       "      <th>1</th>\n",
       "      <td>\"00018f77f2f0320c557190d7a144bdd3\"</td>\n",
       "      <td>1</td>\n",
       "      <td>e5f2d52b802189ee658865ca93d83a8f</td>\n",
       "      <td>dd7ddc04e1b6c2c614352b383efe2d36</td>\n",
       "      <td>2017-05-03 11:05:13</td>\n",
       "      <td>239.90</td>\n",
       "      <td>19.93</td>\n",
       "    </tr>\n",
       "    <tr>\n",
       "      <th>2</th>\n",
       "      <td>\"000229ec398224ef6ca0657da4fc703e\"</td>\n",
       "      <td>1</td>\n",
       "      <td>c777355d18b72b67abbeef9df44fd0fd</td>\n",
       "      <td>\"5b51032eddd242adc84c38acab88f23d\"</td>\n",
       "      <td>2018-01-18 14:48:30</td>\n",
       "      <td>199.00</td>\n",
       "      <td>17.87</td>\n",
       "    </tr>\n",
       "    <tr>\n",
       "      <th>3</th>\n",
       "      <td>\"00024acbcdf0a6daa1e931b038114c75\"</td>\n",
       "      <td>1</td>\n",
       "      <td>\"7634da152a4610f1595efa32f14722fc\"</td>\n",
       "      <td>\"9d7a1d34a5052409006425275ba1c2b4\"</td>\n",
       "      <td>2018-08-15 10:10:18</td>\n",
       "      <td>12.99</td>\n",
       "      <td>12.79</td>\n",
       "    </tr>\n",
       "    <tr>\n",
       "      <th>4</th>\n",
       "      <td>\"00042b26cf59d7ce69dfabb4e55b4fd9\"</td>\n",
       "      <td>1</td>\n",
       "      <td>ac6c3623068f30de03045865e4e10089</td>\n",
       "      <td>df560393f3a51e74553ab94004ba5c87</td>\n",
       "      <td>2017-02-13 13:57:51</td>\n",
       "      <td>199.90</td>\n",
       "      <td>18.14</td>\n",
       "    </tr>\n",
       "  </tbody>\n",
       "</table>\n",
       "</div>"
      ],
      "text/plain": [
       "                           \"order_id\"  \"order_item_id\"  \\\n",
       "0  \"00010242fe8c5a6d1ba2dd792cb16214\"                1   \n",
       "1  \"00018f77f2f0320c557190d7a144bdd3\"                1   \n",
       "2  \"000229ec398224ef6ca0657da4fc703e\"                1   \n",
       "3  \"00024acbcdf0a6daa1e931b038114c75\"                1   \n",
       "4  \"00042b26cf59d7ce69dfabb4e55b4fd9\"                1   \n",
       "\n",
       "                         \"product_id\"                         \"seller_id\"  \\\n",
       "0  \"4244733e06e7ecb4970a6e2683c13e61\"  \"48436dade18ac8b2bce089ec2a041202\"   \n",
       "1    e5f2d52b802189ee658865ca93d83a8f    dd7ddc04e1b6c2c614352b383efe2d36   \n",
       "2    c777355d18b72b67abbeef9df44fd0fd  \"5b51032eddd242adc84c38acab88f23d\"   \n",
       "3  \"7634da152a4610f1595efa32f14722fc\"  \"9d7a1d34a5052409006425275ba1c2b4\"   \n",
       "4    ac6c3623068f30de03045865e4e10089    df560393f3a51e74553ab94004ba5c87   \n",
       "\n",
       "  \"shipping_limit_date\"  \"price\"  \"freight_value\"  \n",
       "0   2017-09-19 09:45:35    58.90            13.29  \n",
       "1   2017-05-03 11:05:13   239.90            19.93  \n",
       "2   2018-01-18 14:48:30   199.00            17.87  \n",
       "3   2018-08-15 10:10:18    12.99            12.79  \n",
       "4   2017-02-13 13:57:51   199.90            18.14  "
      ]
     },
     "execution_count": 73,
     "metadata": {},
     "output_type": "execute_result"
    }
   ],
   "source": [
    "order_items = pd.read_csv(\n",
    "    \"./data-clarify/olist_order_items_dataset.csv\",\n",
    "    delimiter=\",\",\n",
    "    quoting=csv.QUOTE_NONE\n",
    ")\n",
    "order_items.shape\n",
    "order_items.head()"
   ]
  },
  {
   "cell_type": "code",
   "execution_count": 74,
   "metadata": {},
   "outputs": [
    {
     "data": {
      "text/html": [
       "<div>\n",
       "<style scoped>\n",
       "    .dataframe tbody tr th:only-of-type {\n",
       "        vertical-align: middle;\n",
       "    }\n",
       "\n",
       "    .dataframe tbody tr th {\n",
       "        vertical-align: top;\n",
       "    }\n",
       "\n",
       "    .dataframe thead th {\n",
       "        text-align: right;\n",
       "    }\n",
       "</style>\n",
       "<table border=\"1\" class=\"dataframe\">\n",
       "  <thead>\n",
       "    <tr style=\"text-align: right;\">\n",
       "      <th></th>\n",
       "      <th>\"order_id\"</th>\n",
       "      <th>\"customer_id\"</th>\n",
       "      <th>\"order_status\"</th>\n",
       "      <th>\"order_purchase_timestamp\"</th>\n",
       "      <th>\"order_approved_at\"</th>\n",
       "      <th>\"order_delivered_carrier_date\"</th>\n",
       "      <th>\"order_delivered_customer_date\"</th>\n",
       "      <th>\"order_estimated_delivery_date\"</th>\n",
       "    </tr>\n",
       "  </thead>\n",
       "  <tbody>\n",
       "    <tr>\n",
       "      <th>0</th>\n",
       "      <td>e481f51cbdc54678b7cc49136f2d6af7</td>\n",
       "      <td>\"9ef432eb6251297304e76186b10a928d\"</td>\n",
       "      <td>delivered</td>\n",
       "      <td>2017-10-02 10:56:33</td>\n",
       "      <td>2017-10-02 11:07:15</td>\n",
       "      <td>2017-10-04 19:55:00</td>\n",
       "      <td>2017-10-10 21:25:13</td>\n",
       "      <td>2017-10-18 00:00:00</td>\n",
       "    </tr>\n",
       "    <tr>\n",
       "      <th>1</th>\n",
       "      <td>\"53cdb2fc8bc7dce0b6741e2150273451\"</td>\n",
       "      <td>b0830fb4747a6c6d20dea0b8c802d7ef</td>\n",
       "      <td>delivered</td>\n",
       "      <td>2018-07-24 20:41:37</td>\n",
       "      <td>2018-07-26 03:24:27</td>\n",
       "      <td>2018-07-26 14:31:00</td>\n",
       "      <td>2018-08-07 15:27:45</td>\n",
       "      <td>2018-08-13 00:00:00</td>\n",
       "    </tr>\n",
       "    <tr>\n",
       "      <th>2</th>\n",
       "      <td>\"47770eb9100c2d0c44946d9cf07ec65d\"</td>\n",
       "      <td>\"41ce2a54c0b03bf3443c3d931a367089\"</td>\n",
       "      <td>delivered</td>\n",
       "      <td>2018-08-08 08:38:49</td>\n",
       "      <td>2018-08-08 08:55:23</td>\n",
       "      <td>2018-08-08 13:50:00</td>\n",
       "      <td>2018-08-17 18:06:29</td>\n",
       "      <td>2018-09-04 00:00:00</td>\n",
       "    </tr>\n",
       "    <tr>\n",
       "      <th>3</th>\n",
       "      <td>\"949d5b44dbf5de918fe9c16f97b45f8a\"</td>\n",
       "      <td>f88197465ea7920adcdbec7375364d82</td>\n",
       "      <td>delivered</td>\n",
       "      <td>2017-11-18 19:28:06</td>\n",
       "      <td>2017-11-18 19:45:59</td>\n",
       "      <td>2017-11-22 13:39:59</td>\n",
       "      <td>2017-12-02 00:28:42</td>\n",
       "      <td>2017-12-15 00:00:00</td>\n",
       "    </tr>\n",
       "    <tr>\n",
       "      <th>4</th>\n",
       "      <td>ad21c59c0840e6cb83a9ceb5573f8159</td>\n",
       "      <td>\"8ab97904e6daea8866dbdbc4fb7aad2c\"</td>\n",
       "      <td>delivered</td>\n",
       "      <td>2018-02-13 21:18:39</td>\n",
       "      <td>2018-02-13 22:20:29</td>\n",
       "      <td>2018-02-14 19:46:34</td>\n",
       "      <td>2018-02-16 18:17:02</td>\n",
       "      <td>2018-02-26 00:00:00</td>\n",
       "    </tr>\n",
       "  </tbody>\n",
       "</table>\n",
       "</div>"
      ],
      "text/plain": [
       "                           \"order_id\"                       \"customer_id\"  \\\n",
       "0    e481f51cbdc54678b7cc49136f2d6af7  \"9ef432eb6251297304e76186b10a928d\"   \n",
       "1  \"53cdb2fc8bc7dce0b6741e2150273451\"    b0830fb4747a6c6d20dea0b8c802d7ef   \n",
       "2  \"47770eb9100c2d0c44946d9cf07ec65d\"  \"41ce2a54c0b03bf3443c3d931a367089\"   \n",
       "3  \"949d5b44dbf5de918fe9c16f97b45f8a\"    f88197465ea7920adcdbec7375364d82   \n",
       "4    ad21c59c0840e6cb83a9ceb5573f8159  \"8ab97904e6daea8866dbdbc4fb7aad2c\"   \n",
       "\n",
       "  \"order_status\" \"order_purchase_timestamp\"  \"order_approved_at\"  \\\n",
       "0      delivered        2017-10-02 10:56:33  2017-10-02 11:07:15   \n",
       "1      delivered        2018-07-24 20:41:37  2018-07-26 03:24:27   \n",
       "2      delivered        2018-08-08 08:38:49  2018-08-08 08:55:23   \n",
       "3      delivered        2017-11-18 19:28:06  2017-11-18 19:45:59   \n",
       "4      delivered        2018-02-13 21:18:39  2018-02-13 22:20:29   \n",
       "\n",
       "  \"order_delivered_carrier_date\" \"order_delivered_customer_date\"  \\\n",
       "0            2017-10-04 19:55:00             2017-10-10 21:25:13   \n",
       "1            2018-07-26 14:31:00             2018-08-07 15:27:45   \n",
       "2            2018-08-08 13:50:00             2018-08-17 18:06:29   \n",
       "3            2017-11-22 13:39:59             2017-12-02 00:28:42   \n",
       "4            2018-02-14 19:46:34             2018-02-16 18:17:02   \n",
       "\n",
       "  \"order_estimated_delivery_date\"  \n",
       "0             2017-10-18 00:00:00  \n",
       "1             2018-08-13 00:00:00  \n",
       "2             2018-09-04 00:00:00  \n",
       "3             2017-12-15 00:00:00  \n",
       "4             2018-02-26 00:00:00  "
      ]
     },
     "execution_count": 74,
     "metadata": {},
     "output_type": "execute_result"
    }
   ],
   "source": [
    "order = pd.read_csv(\n",
    "    \"./data-clarify/olist_orders_dataset.csv\",\n",
    "    delimiter=\",\",\n",
    "    quoting=csv.QUOTE_NONE\n",
    ")\n",
    "order.shape\n",
    "order.head()"
   ]
  },
  {
   "cell_type": "code",
   "execution_count": 75,
   "metadata": {},
   "outputs": [
    {
     "data": {
      "text/html": [
       "<div>\n",
       "<style scoped>\n",
       "    .dataframe tbody tr th:only-of-type {\n",
       "        vertical-align: middle;\n",
       "    }\n",
       "\n",
       "    .dataframe tbody tr th {\n",
       "        vertical-align: top;\n",
       "    }\n",
       "\n",
       "    .dataframe thead th {\n",
       "        text-align: right;\n",
       "    }\n",
       "</style>\n",
       "<table border=\"1\" class=\"dataframe\">\n",
       "  <thead>\n",
       "    <tr style=\"text-align: right;\">\n",
       "      <th></th>\n",
       "      <th>\"product_id\"</th>\n",
       "      <th>\"product_category_name\"</th>\n",
       "      <th>\"product_name_lenght\"</th>\n",
       "      <th>\"product_description_lenght\"</th>\n",
       "      <th>\"product_photos_qty\"</th>\n",
       "      <th>\"product_weight_g\"</th>\n",
       "      <th>\"product_length_cm\"</th>\n",
       "      <th>\"product_height_cm\"</th>\n",
       "      <th>\"product_width_cm\"</th>\n",
       "    </tr>\n",
       "  </thead>\n",
       "  <tbody>\n",
       "    <tr>\n",
       "      <th>0</th>\n",
       "      <td>\"1e9e8ef04dbcff4541ed26657ea517e5\"</td>\n",
       "      <td>perfumaria</td>\n",
       "      <td>40.0</td>\n",
       "      <td>287.0</td>\n",
       "      <td>1.0</td>\n",
       "      <td>225.0</td>\n",
       "      <td>16.0</td>\n",
       "      <td>10.0</td>\n",
       "      <td>14.0</td>\n",
       "    </tr>\n",
       "    <tr>\n",
       "      <th>1</th>\n",
       "      <td>\"3aa071139cb16b67ca9e5dea641aaa2f\"</td>\n",
       "      <td>artes</td>\n",
       "      <td>44.0</td>\n",
       "      <td>276.0</td>\n",
       "      <td>1.0</td>\n",
       "      <td>1000.0</td>\n",
       "      <td>30.0</td>\n",
       "      <td>18.0</td>\n",
       "      <td>20.0</td>\n",
       "    </tr>\n",
       "    <tr>\n",
       "      <th>2</th>\n",
       "      <td>\"96bd76ec8810374ed1b65e291975717f\"</td>\n",
       "      <td>esporte_lazer</td>\n",
       "      <td>46.0</td>\n",
       "      <td>250.0</td>\n",
       "      <td>1.0</td>\n",
       "      <td>154.0</td>\n",
       "      <td>18.0</td>\n",
       "      <td>9.0</td>\n",
       "      <td>15.0</td>\n",
       "    </tr>\n",
       "    <tr>\n",
       "      <th>3</th>\n",
       "      <td>cef67bcfe19066a932b7673e239eb23d</td>\n",
       "      <td>bebes</td>\n",
       "      <td>27.0</td>\n",
       "      <td>261.0</td>\n",
       "      <td>1.0</td>\n",
       "      <td>371.0</td>\n",
       "      <td>26.0</td>\n",
       "      <td>4.0</td>\n",
       "      <td>26.0</td>\n",
       "    </tr>\n",
       "    <tr>\n",
       "      <th>4</th>\n",
       "      <td>\"9dc1a7de274444849c219cff195d0b71\"</td>\n",
       "      <td>utilidades_domesticas</td>\n",
       "      <td>37.0</td>\n",
       "      <td>402.0</td>\n",
       "      <td>4.0</td>\n",
       "      <td>625.0</td>\n",
       "      <td>20.0</td>\n",
       "      <td>17.0</td>\n",
       "      <td>13.0</td>\n",
       "    </tr>\n",
       "  </tbody>\n",
       "</table>\n",
       "</div>"
      ],
      "text/plain": [
       "                         \"product_id\" \"product_category_name\"  \\\n",
       "0  \"1e9e8ef04dbcff4541ed26657ea517e5\"              perfumaria   \n",
       "1  \"3aa071139cb16b67ca9e5dea641aaa2f\"                   artes   \n",
       "2  \"96bd76ec8810374ed1b65e291975717f\"           esporte_lazer   \n",
       "3    cef67bcfe19066a932b7673e239eb23d                   bebes   \n",
       "4  \"9dc1a7de274444849c219cff195d0b71\"   utilidades_domesticas   \n",
       "\n",
       "   \"product_name_lenght\"  \"product_description_lenght\"  \"product_photos_qty\"  \\\n",
       "0                   40.0                         287.0                   1.0   \n",
       "1                   44.0                         276.0                   1.0   \n",
       "2                   46.0                         250.0                   1.0   \n",
       "3                   27.0                         261.0                   1.0   \n",
       "4                   37.0                         402.0                   4.0   \n",
       "\n",
       "   \"product_weight_g\"  \"product_length_cm\"  \"product_height_cm\"  \\\n",
       "0               225.0                 16.0                 10.0   \n",
       "1              1000.0                 30.0                 18.0   \n",
       "2               154.0                 18.0                  9.0   \n",
       "3               371.0                 26.0                  4.0   \n",
       "4               625.0                 20.0                 17.0   \n",
       "\n",
       "   \"product_width_cm\"  \n",
       "0                14.0  \n",
       "1                20.0  \n",
       "2                15.0  \n",
       "3                26.0  \n",
       "4                13.0  "
      ]
     },
     "execution_count": 75,
     "metadata": {},
     "output_type": "execute_result"
    }
   ],
   "source": [
    "prod = pd.read_csv(\n",
    "    \"./data-clarify/olist_products_dataset.csv\",\n",
    "    delimiter=\",\",\n",
    "    quoting=csv.QUOTE_NONE\n",
    ")\n",
    "prod.shape\n",
    "prod.head()"
   ]
  },
  {
   "cell_type": "markdown",
   "metadata": {},
   "source": [
    "# Combine Dataframe"
   ]
  },
  {
   "cell_type": "code",
   "execution_count": 76,
   "metadata": {},
   "outputs": [],
   "source": [
    "df1 = df_cust.merge(order, how='outer', on='\"customer_id\"')"
   ]
  },
  {
   "cell_type": "code",
   "execution_count": 77,
   "metadata": {},
   "outputs": [],
   "source": [
    "df2 = df1.merge(order_items, how='outer', on='\"order_id\"')"
   ]
  },
  {
   "cell_type": "code",
   "execution_count": 78,
   "metadata": {},
   "outputs": [],
   "source": [
    "df3 = df2.merge(prod, how='outer', on='\"product_id\"' )"
   ]
  },
  {
   "cell_type": "code",
   "execution_count": 79,
   "metadata": {},
   "outputs": [
    {
     "data": {
      "text/html": [
       "<div>\n",
       "<style scoped>\n",
       "    .dataframe tbody tr th:only-of-type {\n",
       "        vertical-align: middle;\n",
       "    }\n",
       "\n",
       "    .dataframe tbody tr th {\n",
       "        vertical-align: top;\n",
       "    }\n",
       "\n",
       "    .dataframe thead th {\n",
       "        text-align: right;\n",
       "    }\n",
       "</style>\n",
       "<table border=\"1\" class=\"dataframe\">\n",
       "  <thead>\n",
       "    <tr style=\"text-align: right;\">\n",
       "      <th></th>\n",
       "      <th>\"customer_id\"</th>\n",
       "      <th>\"customer_unique_id\"</th>\n",
       "      <th>\"customer_zip_code_prefix\"</th>\n",
       "      <th>\"customer_city\"</th>\n",
       "      <th>\"customer_state\"</th>\n",
       "      <th>\"order_id\"</th>\n",
       "      <th>\"order_status\"</th>\n",
       "      <th>\"order_purchase_timestamp\"</th>\n",
       "      <th>\"order_approved_at\"</th>\n",
       "      <th>\"order_delivered_carrier_date\"</th>\n",
       "      <th>...</th>\n",
       "      <th>\"price\"</th>\n",
       "      <th>\"freight_value\"</th>\n",
       "      <th>\"product_category_name\"</th>\n",
       "      <th>\"product_name_lenght\"</th>\n",
       "      <th>\"product_description_lenght\"</th>\n",
       "      <th>\"product_photos_qty\"</th>\n",
       "      <th>\"product_weight_g\"</th>\n",
       "      <th>\"product_length_cm\"</th>\n",
       "      <th>\"product_height_cm\"</th>\n",
       "      <th>\"product_width_cm\"</th>\n",
       "    </tr>\n",
       "  </thead>\n",
       "  <tbody>\n",
       "    <tr>\n",
       "      <th>0</th>\n",
       "      <td>\"06b8999e2fba1a1fbc88172c00ba8bc7\"</td>\n",
       "      <td>\"861eff4711a542e4b93843c6dd7febb0\"</td>\n",
       "      <td>\"14409\"</td>\n",
       "      <td>franca</td>\n",
       "      <td>SP</td>\n",
       "      <td>\"00e7ee1b050b8499577073aeb2a297a1\"</td>\n",
       "      <td>delivered</td>\n",
       "      <td>2017-05-16 15:05:35</td>\n",
       "      <td>2017-05-16 15:22:12</td>\n",
       "      <td>2017-05-23 10:47:57</td>\n",
       "      <td>...</td>\n",
       "      <td>124.99</td>\n",
       "      <td>21.88</td>\n",
       "      <td>moveis_escritorio</td>\n",
       "      <td>41.0</td>\n",
       "      <td>1141.0</td>\n",
       "      <td>1.0</td>\n",
       "      <td>8683.0</td>\n",
       "      <td>54.0</td>\n",
       "      <td>64.0</td>\n",
       "      <td>31.0</td>\n",
       "    </tr>\n",
       "    <tr>\n",
       "      <th>1</th>\n",
       "      <td>\"8912fc0c3bbf1e2fbf35819e21706718\"</td>\n",
       "      <td>\"9eae34bbd3a474ec5d07949ca7de67c0\"</td>\n",
       "      <td>\"68030\"</td>\n",
       "      <td>santarem</td>\n",
       "      <td>PA</td>\n",
       "      <td>c1d2b34febe9cd269e378117d6681172</td>\n",
       "      <td>delivered</td>\n",
       "      <td>2017-11-09 00:50:13</td>\n",
       "      <td>2017-11-10 00:47:48</td>\n",
       "      <td>2017-11-22 01:43:37</td>\n",
       "      <td>...</td>\n",
       "      <td>112.99</td>\n",
       "      <td>24.90</td>\n",
       "      <td>moveis_escritorio</td>\n",
       "      <td>41.0</td>\n",
       "      <td>1141.0</td>\n",
       "      <td>1.0</td>\n",
       "      <td>8683.0</td>\n",
       "      <td>54.0</td>\n",
       "      <td>64.0</td>\n",
       "      <td>31.0</td>\n",
       "    </tr>\n",
       "    <tr>\n",
       "      <th>2</th>\n",
       "      <td>\"8912fc0c3bbf1e2fbf35819e21706718\"</td>\n",
       "      <td>\"9eae34bbd3a474ec5d07949ca7de67c0\"</td>\n",
       "      <td>\"68030\"</td>\n",
       "      <td>santarem</td>\n",
       "      <td>PA</td>\n",
       "      <td>c1d2b34febe9cd269e378117d6681172</td>\n",
       "      <td>delivered</td>\n",
       "      <td>2017-11-09 00:50:13</td>\n",
       "      <td>2017-11-10 00:47:48</td>\n",
       "      <td>2017-11-22 01:43:37</td>\n",
       "      <td>...</td>\n",
       "      <td>112.99</td>\n",
       "      <td>24.90</td>\n",
       "      <td>moveis_escritorio</td>\n",
       "      <td>41.0</td>\n",
       "      <td>1141.0</td>\n",
       "      <td>1.0</td>\n",
       "      <td>8683.0</td>\n",
       "      <td>54.0</td>\n",
       "      <td>64.0</td>\n",
       "      <td>31.0</td>\n",
       "    </tr>\n",
       "    <tr>\n",
       "      <th>3</th>\n",
       "      <td>f0ac8e5a239118859b1734e1087cbb1f</td>\n",
       "      <td>\"3c799d181c34d51f6d44bbbc563024db\"</td>\n",
       "      <td>\"92480\"</td>\n",
       "      <td>nova santa rita</td>\n",
       "      <td>RS</td>\n",
       "      <td>b1a5d5365d330d10485e0203d54ab9e8</td>\n",
       "      <td>delivered</td>\n",
       "      <td>2017-05-07 20:11:26</td>\n",
       "      <td>2017-05-08 22:22:56</td>\n",
       "      <td>2017-05-19 20:16:31</td>\n",
       "      <td>...</td>\n",
       "      <td>124.99</td>\n",
       "      <td>15.62</td>\n",
       "      <td>moveis_escritorio</td>\n",
       "      <td>41.0</td>\n",
       "      <td>1141.0</td>\n",
       "      <td>1.0</td>\n",
       "      <td>8683.0</td>\n",
       "      <td>54.0</td>\n",
       "      <td>64.0</td>\n",
       "      <td>31.0</td>\n",
       "    </tr>\n",
       "    <tr>\n",
       "      <th>4</th>\n",
       "      <td>\"6bc8d08963a135220ed6c6d098831f84\"</td>\n",
       "      <td>\"23397e992b09769faf5e66f9e171a241\"</td>\n",
       "      <td>\"25931\"</td>\n",
       "      <td>mage</td>\n",
       "      <td>RJ</td>\n",
       "      <td>\"2e604b3614664aa66867856dba7e61b7\"</td>\n",
       "      <td>delivered</td>\n",
       "      <td>2018-02-03 19:45:40</td>\n",
       "      <td>2018-02-04 22:29:19</td>\n",
       "      <td>2018-02-19 18:21:47</td>\n",
       "      <td>...</td>\n",
       "      <td>106.99</td>\n",
       "      <td>30.59</td>\n",
       "      <td>moveis_escritorio</td>\n",
       "      <td>41.0</td>\n",
       "      <td>1141.0</td>\n",
       "      <td>1.0</td>\n",
       "      <td>8683.0</td>\n",
       "      <td>54.0</td>\n",
       "      <td>64.0</td>\n",
       "      <td>31.0</td>\n",
       "    </tr>\n",
       "  </tbody>\n",
       "</table>\n",
       "<p>5 rows × 26 columns</p>\n",
       "</div>"
      ],
      "text/plain": [
       "                        \"customer_id\"                \"customer_unique_id\"  \\\n",
       "0  \"06b8999e2fba1a1fbc88172c00ba8bc7\"  \"861eff4711a542e4b93843c6dd7febb0\"   \n",
       "1  \"8912fc0c3bbf1e2fbf35819e21706718\"  \"9eae34bbd3a474ec5d07949ca7de67c0\"   \n",
       "2  \"8912fc0c3bbf1e2fbf35819e21706718\"  \"9eae34bbd3a474ec5d07949ca7de67c0\"   \n",
       "3    f0ac8e5a239118859b1734e1087cbb1f  \"3c799d181c34d51f6d44bbbc563024db\"   \n",
       "4  \"6bc8d08963a135220ed6c6d098831f84\"  \"23397e992b09769faf5e66f9e171a241\"   \n",
       "\n",
       "  \"customer_zip_code_prefix\"  \"customer_city\" \"customer_state\"  \\\n",
       "0                    \"14409\"           franca               SP   \n",
       "1                    \"68030\"         santarem               PA   \n",
       "2                    \"68030\"         santarem               PA   \n",
       "3                    \"92480\"  nova santa rita               RS   \n",
       "4                    \"25931\"             mage               RJ   \n",
       "\n",
       "                           \"order_id\" \"order_status\"  \\\n",
       "0  \"00e7ee1b050b8499577073aeb2a297a1\"      delivered   \n",
       "1    c1d2b34febe9cd269e378117d6681172      delivered   \n",
       "2    c1d2b34febe9cd269e378117d6681172      delivered   \n",
       "3    b1a5d5365d330d10485e0203d54ab9e8      delivered   \n",
       "4  \"2e604b3614664aa66867856dba7e61b7\"      delivered   \n",
       "\n",
       "  \"order_purchase_timestamp\"  \"order_approved_at\"  \\\n",
       "0        2017-05-16 15:05:35  2017-05-16 15:22:12   \n",
       "1        2017-11-09 00:50:13  2017-11-10 00:47:48   \n",
       "2        2017-11-09 00:50:13  2017-11-10 00:47:48   \n",
       "3        2017-05-07 20:11:26  2017-05-08 22:22:56   \n",
       "4        2018-02-03 19:45:40  2018-02-04 22:29:19   \n",
       "\n",
       "  \"order_delivered_carrier_date\"  ... \"price\" \"freight_value\"  \\\n",
       "0            2017-05-23 10:47:57  ...  124.99           21.88   \n",
       "1            2017-11-22 01:43:37  ...  112.99           24.90   \n",
       "2            2017-11-22 01:43:37  ...  112.99           24.90   \n",
       "3            2017-05-19 20:16:31  ...  124.99           15.62   \n",
       "4            2018-02-19 18:21:47  ...  106.99           30.59   \n",
       "\n",
       "   \"product_category_name\" \"product_name_lenght\" \"product_description_lenght\"  \\\n",
       "0        moveis_escritorio                  41.0                       1141.0   \n",
       "1        moveis_escritorio                  41.0                       1141.0   \n",
       "2        moveis_escritorio                  41.0                       1141.0   \n",
       "3        moveis_escritorio                  41.0                       1141.0   \n",
       "4        moveis_escritorio                  41.0                       1141.0   \n",
       "\n",
       "  \"product_photos_qty\"  \"product_weight_g\"  \"product_length_cm\"  \\\n",
       "0                  1.0              8683.0                 54.0   \n",
       "1                  1.0              8683.0                 54.0   \n",
       "2                  1.0              8683.0                 54.0   \n",
       "3                  1.0              8683.0                 54.0   \n",
       "4                  1.0              8683.0                 54.0   \n",
       "\n",
       "  \"product_height_cm\"  \"product_width_cm\"  \n",
       "0                64.0                31.0  \n",
       "1                64.0                31.0  \n",
       "2                64.0                31.0  \n",
       "3                64.0                31.0  \n",
       "4                64.0                31.0  \n",
       "\n",
       "[5 rows x 26 columns]"
      ]
     },
     "execution_count": 79,
     "metadata": {},
     "output_type": "execute_result"
    }
   ],
   "source": [
    "df3.head()"
   ]
  },
  {
   "cell_type": "markdown",
   "metadata": {},
   "source": [
    "# Balance the Dataset by Product Category and Price"
   ]
  },
  {
   "cell_type": "code",
   "execution_count": 80,
   "metadata": {},
   "outputs": [
    {
     "data": {
      "text/plain": [
       "(17472, 2)"
      ]
     },
     "execution_count": 80,
     "metadata": {},
     "output_type": "execute_result"
    }
   ],
   "source": [
    "df_grouped_by = df3.groupby(['\"product_category_name\"', '\"price\"'])[['\"product_category_name\"', '\"price\"']]\n",
    "df_balanced = df_grouped_by.apply(lambda x: x.sample(df_grouped_by.size().min()).reset_index(drop=True))\n",
    "df_balanced.shape"
   ]
  },
  {
   "cell_type": "markdown",
   "metadata": {},
   "source": [
    "### Unbalanced label classes"
   ]
  },
  {
   "cell_type": "code",
   "execution_count": 81,
   "metadata": {},
   "outputs": [],
   "source": [
    "path = \"./data-clarify/master_unbal.csv\"\n",
    "df3.to_csv(path, index=False, header=True)"
   ]
  },
  {
   "cell_type": "markdown",
   "metadata": {},
   "source": [
    "### Balanced label classes"
   ]
  },
  {
   "cell_type": "code",
   "execution_count": 82,
   "metadata": {},
   "outputs": [],
   "source": [
    "path_balanced = \"./data-clarify/master_bal.csv\"\n",
    "df_balanced.to_csv(path_balanced, index=False, header=True)"
   ]
  },
  {
   "cell_type": "markdown",
   "metadata": {},
   "source": [
    "### Write as JSONLINES"
   ]
  },
  {
   "cell_type": "code",
   "execution_count": 83,
   "metadata": {},
   "outputs": [],
   "source": [
    "path_jsonlines = \"./data-clarify/master_bal.jsonl\"\n",
    "df_balanced.to_json(path_or_buf=path_jsonlines, orient=\"records\", lines=True)"
   ]
  },
  {
   "cell_type": "markdown",
   "metadata": {},
   "source": [
    "# Upload Train Data to S3¶"
   ]
  },
  {
   "cell_type": "code",
   "execution_count": 84,
   "metadata": {},
   "outputs": [
    {
     "data": {
      "text/plain": [
       "'s3://ads-508-team4/bias-detection-1647856853/master_unbal.csv'"
      ]
     },
     "execution_count": 84,
     "metadata": {},
     "output_type": "execute_result"
    }
   ],
   "source": [
    "import time\n",
    "\n",
    "timestamp = int(time.time())\n",
    "\n",
    "bias_data_s3_uri = sess.upload_data(bucket=\"ads-508-team4\", key_prefix=\"bias-detection-{}\".format(timestamp), path=path)\n",
    "bias_data_s3_uri"
   ]
  },
  {
   "cell_type": "code",
   "execution_count": 85,
   "metadata": {},
   "outputs": [
    {
     "name": "stdout",
     "output_type": "stream",
     "text": [
      "2022-03-21 10:00:54   46011212 master_unbal.csv\n"
     ]
    }
   ],
   "source": [
    "!aws s3 ls $bias_data_s3_uri"
   ]
  },
  {
   "cell_type": "code",
   "execution_count": 86,
   "metadata": {},
   "outputs": [
    {
     "data": {
      "text/plain": [
       "'s3://ads-508-team4/bias-detection-1647856853/master_bal.csv'"
      ]
     },
     "execution_count": 86,
     "metadata": {},
     "output_type": "execute_result"
    }
   ],
   "source": [
    "balanced_bias_data_s3_uri = sess.upload_data(\n",
    "    bucket=\"ads-508-team4\", key_prefix=\"bias-detection-{}\".format(timestamp), path=path_balanced\n",
    ")\n",
    "balanced_bias_data_s3_uri"
   ]
  },
  {
   "cell_type": "code",
   "execution_count": 87,
   "metadata": {},
   "outputs": [
    {
     "name": "stdout",
     "output_type": "stream",
     "text": [
      "2022-03-21 10:00:56     387506 master_bal.csv\n"
     ]
    }
   ],
   "source": [
    "!aws s3 ls $balanced_bias_data_s3_uri"
   ]
  },
  {
   "cell_type": "code",
   "execution_count": 88,
   "metadata": {},
   "outputs": [
    {
     "data": {
      "text/plain": [
       "'s3://ads-508-team4/bias-detection-1647856853/master_bal.jsonl'"
      ]
     },
     "execution_count": 88,
     "metadata": {},
     "output_type": "execute_result"
    }
   ],
   "source": [
    "balanced_bias_data_jsonlines_s3_uri = sess.upload_data(\n",
    "    bucket=\"ads-508-team4\", key_prefix=\"bias-detection-{}\".format(timestamp), path=path_jsonlines\n",
    ")\n",
    "balanced_bias_data_jsonlines_s3_uri"
   ]
  },
  {
   "cell_type": "code",
   "execution_count": 89,
   "metadata": {},
   "outputs": [
    {
     "name": "stdout",
     "output_type": "stream",
     "text": [
      "2022-03-21 10:00:57    1156233 master_bal.jsonl\n"
     ]
    }
   ],
   "source": [
    "!aws s3 ls $balanced_bias_data_jsonlines_s3_uri"
   ]
  },
  {
   "cell_type": "markdown",
   "metadata": {},
   "source": [
    "# Store Variables for Next Notebook(s)"
   ]
  },
  {
   "cell_type": "code",
   "execution_count": 90,
   "metadata": {},
   "outputs": [
    {
     "name": "stdout",
     "output_type": "stream",
     "text": [
      "Stored 'balanced_bias_data_jsonlines_s3_uri' (str)\n"
     ]
    }
   ],
   "source": [
    "%store balanced_bias_data_jsonlines_s3_uri"
   ]
  },
  {
   "cell_type": "code",
   "execution_count": 91,
   "metadata": {},
   "outputs": [
    {
     "name": "stdout",
     "output_type": "stream",
     "text": [
      "Stored 'balanced_bias_data_s3_uri' (str)\n"
     ]
    }
   ],
   "source": [
    "%store balanced_bias_data_s3_uri"
   ]
  },
  {
   "cell_type": "code",
   "execution_count": 92,
   "metadata": {},
   "outputs": [
    {
     "name": "stdout",
     "output_type": "stream",
     "text": [
      "Stored 'bias_data_s3_uri' (str)\n"
     ]
    }
   ],
   "source": [
    "%store bias_data_s3_uri"
   ]
  },
  {
   "cell_type": "code",
   "execution_count": 93,
   "metadata": {},
   "outputs": [
    {
     "name": "stdout",
     "output_type": "stream",
     "text": [
      "Stored variables and their in-db values:\n",
      "balanced_bias_data_jsonlines_s3_uri                   -> 's3://ads-508-team4/bias-detection-1647856853/mast\n",
      "balanced_bias_data_s3_uri                             -> 's3://ads-508-team4/bias-detection-1647856853/mast\n",
      "bias_data_s3_uri                                      -> 's3://ads-508-team4/bias-detection-1647856853/mast\n",
      "ingest_create_athena_db_passed                        -> True\n",
      "ingest_create_athena_table_csv_passed                 -> True\n",
      "ingest_create_athena_table_parquet_passed             -> True\n",
      "ingest_create_athena_table_tsv_passed                 -> True\n",
      "s3_private_path_csv                                   -> 's3://ads-508-team4/olist/csv'\n",
      "s3_private_path_tsv                                   -> 's3://sagemaker-us-east-1-816811754200/amazon-revi\n",
      "s3_public_path_csv                                    -> 's3://ads-508-team4/olist/csv'\n",
      "s3_public_path_tsv                                    -> 's3://amazon-reviews-pds/tsv'\n",
      "setup_dependencies_passed                             -> True\n",
      "setup_iam_roles_passed                                -> True\n",
      "setup_instance_check_passed                           -> True\n",
      "setup_s3_bucket_passed                                -> True\n"
     ]
    }
   ],
   "source": [
    "%store"
   ]
  },
  {
   "cell_type": "code",
   "execution_count": null,
   "metadata": {},
   "outputs": [],
   "source": []
  }
 ],
 "metadata": {
  "instance_type": "ml.t3.medium",
  "kernelspec": {
   "display_name": "Python 3 (Data Science)",
   "language": "python",
   "name": "python3__SAGEMAKER_INTERNAL__arn:aws:sagemaker:us-east-1:081325390199:image/datascience-1.0"
  },
  "language_info": {
   "codemirror_mode": {
    "name": "ipython",
    "version": 3
   },
   "file_extension": ".py",
   "mimetype": "text/x-python",
   "name": "python",
   "nbconvert_exporter": "python",
   "pygments_lexer": "ipython3",
   "version": "3.7.10"
  }
 },
 "nbformat": 4,
 "nbformat_minor": 4
}
