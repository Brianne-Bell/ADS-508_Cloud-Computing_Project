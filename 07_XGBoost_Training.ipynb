{
 "cells": [
  {
   "cell_type": "code",
   "execution_count": 4,
   "metadata": {},
   "outputs": [],
   "source": [
    "import sagemaker\n",
    "import boto3\n",
    "from sagemaker.image_uris import retrieve\n",
    "from sagemaker.inputs import TrainingInput\n",
    "from sagemaker import image_uris\n",
    "\n",
    "sess = sagemaker.Session()\n",
    "bucket = \"ads-508-team4\"\n",
    "prefix = \"autopilot\"\n",
    "role = sagemaker.get_execution_role()\n",
    "region = boto3.Session().region_name\n",
    "\n",
    "sm = boto3.Session().client(service_name=\"sagemaker\", region_name=region)\n",
    "s3 = boto3.Session().client(service_name=\"s3\", region_name=region)\n",
    "\n",
    "# initialize hyperparameters\n",
    "hyperparameters = {\n",
    "        \"max_depth\":\"5\",\n",
    "        \"eta\":\"0.2\",\n",
    "        \"gamma\":\"4\",\n",
    "        \"min_child_weight\":\"6\",\n",
    "        \"subsample\":\"0.7\",\n",
    "        \"objective\":\"reg:squarederror\",\n",
    "        \"num_round\":\"50\"}\n",
    "\n",
    "# set an output path where the trained model will be saved\n",
    "bucket = \"ads-508-team4\"\n",
    "prefix = 'xgboost_builtin_algorithm'\n",
    "output_path = 's3://ads-508-team4/xgboost/output'.format(bucket, prefix, 'abalone-xgb-built-in-algo')"
   ]
  },
  {
   "cell_type": "markdown",
   "metadata": {},
   "source": [
    "# Container Making/Getting"
   ]
  },
  {
   "cell_type": "code",
   "execution_count": 6,
   "metadata": {},
   "outputs": [
    {
     "name": "stdout",
     "output_type": "stream",
     "text": [
      "683313688378.dkr.ecr.us-east-1.amazonaws.com/sagemaker-xgboost:1.2-2\n"
     ]
    }
   ],
   "source": [
    "xgboost_container = sagemaker.image_uris.retrieve(\"xgboost\", region, \"1.2-2\")\n",
    "print(xgboost_container)"
   ]
  },
  {
   "cell_type": "markdown",
   "metadata": {},
   "source": [
    "# SageMaker Estimator to Call xgboost_container"
   ]
  },
  {
   "cell_type": "code",
   "execution_count": 7,
   "metadata": {},
   "outputs": [],
   "source": [
    "estimator = sagemaker.estimator.Estimator(image_uri=xgboost_container, \n",
    "                                          hyperparameters=hyperparameters,\n",
    "                                          role=sagemaker.get_execution_role(),\n",
    "                                          instance_count=1, \n",
    "                                          instance_type='ml.m5.large', \n",
    "                                          volume_size=5, # 5 GB \n",
    "                                          output_path=output_path)"
   ]
  },
  {
   "cell_type": "markdown",
   "metadata": {},
   "source": [
    "# Defining data types and paths for training and validation datasets"
   ]
  },
  {
   "cell_type": "code",
   "execution_count": 8,
   "metadata": {},
   "outputs": [],
   "source": [
    "content_type = \"csv\"\n",
    "train_input = TrainingInput(\"s3://ads-508-team4/modeling_groups/train_data.csv\".format(bucket, prefix, 'train'), content_type=content_type)\n",
    "validation_input = TrainingInput(\"s3://ads-508-team4/modeling_groups/validate_data.csv\".format(bucket, prefix, 'validation'), content_type=content_type)"
   ]
  },
  {
   "cell_type": "markdown",
   "metadata": {},
   "source": [
    "# Execute the XGBoost Training Job"
   ]
  },
  {
   "cell_type": "code",
   "execution_count": 9,
   "metadata": {},
   "outputs": [
    {
     "name": "stdout",
     "output_type": "stream",
     "text": [
      "2022-03-29 06:49:07 Starting - Starting the training job...\n",
      "2022-03-29 06:49:31 Starting - Preparing the instances for trainingProfilerReport-1648536547: InProgress\n",
      "......\n",
      "2022-03-29 06:50:37 Downloading - Downloading input data......\n",
      "2022-03-29 06:51:38 Training - Downloading the training image......\n",
      "2022-03-29 06:52:34 Training - Training image download completed. Training in progress..\u001b[34m[2022-03-29 06:52:37.971 ip-10-0-229-210.ec2.internal:1 INFO utils.py:27] RULE_JOB_STOP_SIGNAL_FILENAME: None\u001b[0m\n",
      "\u001b[34m[2022-03-29:06:52:38:INFO] Imported framework sagemaker_xgboost_container.training\u001b[0m\n",
      "\u001b[34m[2022-03-29:06:52:38:INFO] Failed to parse hyperparameter objective value reg:squarederror to Json.\u001b[0m\n",
      "\u001b[34mReturning the value itself\u001b[0m\n",
      "\u001b[34m[2022-03-29:06:52:38:INFO] No GPUs detected (normal if no gpus installed)\u001b[0m\n",
      "\u001b[34m[2022-03-29:06:52:38:INFO] Running XGBoost Sagemaker in algorithm mode\u001b[0m\n",
      "\u001b[34m[2022-03-29:06:52:38:INFO] Determined delimiter of CSV input is ','\u001b[0m\n",
      "\u001b[34m[2022-03-29:06:52:38:INFO] Determined delimiter of CSV input is ','\u001b[0m\n",
      "\u001b[34m[2022-03-29:06:52:38:INFO] Determined delimiter of CSV input is ','\u001b[0m\n",
      "\u001b[34m[2022-03-29:06:52:38:INFO] Determined delimiter of CSV input is ','\u001b[0m\n",
      "\u001b[34m[2022-03-29:06:52:38:INFO] Single node training.\u001b[0m\n",
      "\u001b[34m[2022-03-29:06:52:38:INFO] Train matrix has 57658 rows and 45 columns\u001b[0m\n",
      "\u001b[34m[2022-03-29:06:52:38:INFO] Validation matrix has 19220 rows\u001b[0m\n",
      "\u001b[34m[0]#011train-rmse:nan#011validation-rmse:nan\u001b[0m\n",
      "\u001b[34m[1]#011train-rmse:nan#011validation-rmse:nan\u001b[0m\n",
      "\u001b[34m[2]#011train-rmse:nan#011validation-rmse:nan\u001b[0m\n",
      "\u001b[34m[3]#011train-rmse:nan#011validation-rmse:nan\u001b[0m\n",
      "\u001b[34m[4]#011train-rmse:nan#011validation-rmse:nan\u001b[0m\n",
      "\u001b[34m[5]#011train-rmse:nan#011validation-rmse:nan\u001b[0m\n",
      "\u001b[34m[6]#011train-rmse:nan#011validation-rmse:nan\u001b[0m\n",
      "\u001b[34m[7]#011train-rmse:nan#011validation-rmse:nan\u001b[0m\n",
      "\u001b[34m[8]#011train-rmse:nan#011validation-rmse:nan\u001b[0m\n",
      "\u001b[34m[9]#011train-rmse:nan#011validation-rmse:nan\u001b[0m\n",
      "\u001b[34m[10]#011train-rmse:nan#011validation-rmse:nan\u001b[0m\n",
      "\u001b[34m[11]#011train-rmse:nan#011validation-rmse:nan\u001b[0m\n",
      "\u001b[34m[12]#011train-rmse:nan#011validation-rmse:nan\u001b[0m\n",
      "\u001b[34m[13]#011train-rmse:nan#011validation-rmse:nan\u001b[0m\n",
      "\u001b[34m[14]#011train-rmse:nan#011validation-rmse:nan\u001b[0m\n",
      "\u001b[34m[15]#011train-rmse:nan#011validation-rmse:nan\u001b[0m\n",
      "\u001b[34m[16]#011train-rmse:nan#011validation-rmse:nan\u001b[0m\n",
      "\u001b[34m[17]#011train-rmse:nan#011validation-rmse:nan\u001b[0m\n",
      "\u001b[34m[18]#011train-rmse:nan#011validation-rmse:nan\u001b[0m\n",
      "\u001b[34m[19]#011train-rmse:nan#011validation-rmse:nan\u001b[0m\n",
      "\u001b[34m[20]#011train-rmse:nan#011validation-rmse:nan\u001b[0m\n",
      "\u001b[34m[21]#011train-rmse:nan#011validation-rmse:nan\u001b[0m\n",
      "\u001b[34m[22]#011train-rmse:nan#011validation-rmse:nan\u001b[0m\n",
      "\u001b[34m[23]#011train-rmse:nan#011validation-rmse:nan\u001b[0m\n",
      "\u001b[34m[24]#011train-rmse:nan#011validation-rmse:nan\u001b[0m\n",
      "\u001b[34m[25]#011train-rmse:nan#011validation-rmse:nan\u001b[0m\n",
      "\u001b[34m[26]#011train-rmse:nan#011validation-rmse:nan\u001b[0m\n",
      "\u001b[34m[27]#011train-rmse:nan#011validation-rmse:nan\u001b[0m\n",
      "\u001b[34m[28]#011train-rmse:nan#011validation-rmse:nan\u001b[0m\n",
      "\u001b[34m[29]#011train-rmse:nan#011validation-rmse:nan\u001b[0m\n",
      "\u001b[34m[30]#011train-rmse:nan#011validation-rmse:nan\u001b[0m\n",
      "\u001b[34m[31]#011train-rmse:nan#011validation-rmse:nan\u001b[0m\n",
      "\u001b[34m[32]#011train-rmse:nan#011validation-rmse:nan\u001b[0m\n",
      "\u001b[34m[33]#011train-rmse:nan#011validation-rmse:nan\u001b[0m\n",
      "\u001b[34m[34]#011train-rmse:nan#011validation-rmse:nan\u001b[0m\n",
      "\u001b[34m[35]#011train-rmse:nan#011validation-rmse:nan\u001b[0m\n",
      "\u001b[34m[36]#011train-rmse:nan#011validation-rmse:nan\u001b[0m\n",
      "\u001b[34m[37]#011train-rmse:nan#011validation-rmse:nan\u001b[0m\n",
      "\u001b[34m[38]#011train-rmse:nan#011validation-rmse:nan\u001b[0m\n",
      "\u001b[34m[39]#011train-rmse:nan#011validation-rmse:nan\u001b[0m\n",
      "\u001b[34m[40]#011train-rmse:nan#011validation-rmse:nan\u001b[0m\n",
      "\u001b[34m[41]#011train-rmse:nan#011validation-rmse:nan\u001b[0m\n",
      "\u001b[34m[42]#011train-rmse:nan#011validation-rmse:nan\u001b[0m\n",
      "\u001b[34m[43]#011train-rmse:nan#011validation-rmse:nan\u001b[0m\n",
      "\u001b[34m[44]#011train-rmse:nan#011validation-rmse:nan\u001b[0m\n",
      "\u001b[34m[45]#011train-rmse:nan#011validation-rmse:nan\u001b[0m\n",
      "\u001b[34m[46]#011train-rmse:nan#011validation-rmse:nan\u001b[0m\n",
      "\u001b[34m[47]#011train-rmse:nan#011validation-rmse:nan\u001b[0m\n",
      "\u001b[34m[48]#011train-rmse:nan#011validation-rmse:nan\u001b[0m\n",
      "\u001b[34m[49]#011train-rmse:nan#011validation-rmse:nan\u001b[0m\n",
      "\n",
      "2022-03-29 06:53:00 Uploading - Uploading generated training model\n",
      "2022-03-29 06:53:00 Completed - Training job completed\n",
      "Training seconds: 143\n",
      "Billable seconds: 143\n"
     ]
    }
   ],
   "source": [
    "estimator.fit({'train': train_input, 'validation': validation_input})\n",
    "\n"
   ]
  },
  {
   "cell_type": "code",
   "execution_count": 10,
   "metadata": {},
   "outputs": [],
   "source": [
    "# assistance from: https://docs.aws.amazon.com/sagemaker/latest/dg/xgboost.html"
   ]
  },
  {
   "cell_type": "markdown",
   "metadata": {},
   "source": [
    "# Shutting down resources"
   ]
  },
  {
   "cell_type": "code",
   "execution_count": 11,
   "metadata": {},
   "outputs": [
    {
     "data": {
      "text/html": [
       "\n",
       "<p><b>Shutting down your kernel for this notebook to release resources.</b></p>\n",
       "<button class=\"sm-command-button\" data-commandlinker-command=\"kernelmenu:shutdown\" style=\"display:none;\">Shutdown Kernel</button>\n",
       "        \n",
       "<script>\n",
       "try {\n",
       "    els = document.getElementsByClassName(\"sm-command-button\");\n",
       "    els[0].click();\n",
       "}\n",
       "catch(err) {\n",
       "    // NoOp\n",
       "}    \n",
       "</script>\n"
      ],
      "text/plain": [
       "<IPython.core.display.HTML object>"
      ]
     },
     "metadata": {},
     "output_type": "display_data"
    }
   ],
   "source": [
    "%%html\n",
    "\n",
    "<p><b>Shutting down your kernel for this notebook to release resources.</b></p>\n",
    "<button class=\"sm-command-button\" data-commandlinker-command=\"kernelmenu:shutdown\" style=\"display:none;\">Shutdown Kernel</button>\n",
    "        \n",
    "<script>\n",
    "try {\n",
    "    els = document.getElementsByClassName(\"sm-command-button\");\n",
    "    els[0].click();\n",
    "}\n",
    "catch(err) {\n",
    "    // NoOp\n",
    "}    \n",
    "</script>"
   ]
  },
  {
   "cell_type": "code",
   "execution_count": null,
   "metadata": {},
   "outputs": [],
   "source": [
    "%%javascript\n",
    "\n",
    "try {\n",
    "    Jupyter.notebook.save_checkpoint();\n",
    "    Jupyter.notebook.session.delete();\n",
    "}\n",
    "catch(err) {\n",
    "    // NoOp\n",
    "}"
   ]
  },
  {
   "cell_type": "code",
   "execution_count": null,
   "metadata": {},
   "outputs": [],
   "source": []
  }
 ],
 "metadata": {
  "kernelspec": {
   "display_name": "Python 3 (Data Science)",
   "language": "python",
   "name": "python3__SAGEMAKER_INTERNAL__arn:aws:sagemaker:us-east-1:081325390199:image/datascience-1.0"
  },
  "language_info": {
   "codemirror_mode": {
    "name": "ipython",
    "version": 3
   },
   "file_extension": ".py",
   "mimetype": "text/x-python",
   "name": "python",
   "nbconvert_exporter": "python",
   "pygments_lexer": "ipython3",
   "version": "3.7.10"
  }
 },
 "nbformat": 4,
 "nbformat_minor": 4
}
